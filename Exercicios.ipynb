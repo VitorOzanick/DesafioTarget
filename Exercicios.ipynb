{
 "cells": [
  {
   "cell_type": "markdown",
   "metadata": {},
   "source": [
    "### 1) \n",
    "Observe o trecho de código abaixo: int INDICE = 13, SOMA = 0, K = 0;\n",
    "Enquanto K < INDICE faça { K = K + 1; SOMA = SOMA + K; }\n",
    "Imprimir(SOMA);\n",
    "Ao final do processamento, qual será o valor da variável SOMA?"
   ]
  },
  {
   "cell_type": "code",
   "execution_count": 10,
   "metadata": {},
   "outputs": [
    {
     "name": "stdout",
     "output_type": "stream",
     "text": [
      "Valor final de SOMA: 91\n"
     ]
    }
   ],
   "source": [
    "\n",
    "INDICE = 13\n",
    "SOMA = 0\n",
    "K = 0\n",
    "\n",
    "while K < INDICE:\n",
    "    K += 1\n",
    "    SOMA += K\n",
    "\n",
    "print(\"Valor final de SOMA:\", SOMA)\n"
   ]
  },
  {
   "cell_type": "markdown",
   "metadata": {},
   "source": [
    "### 2) \n",
    "Dado a sequência de Fibonacci, onde se inicia por 0 e 1 e o próximo valor sempre será a soma dos 2 valores anteriores (exemplo: 0, 1, 1, 2, 3, 5, 8, 13, 21, 34...), escreva um programa na linguagem que desejar onde, informado um número, ele calcule a sequência de Fibonacci e retorne uma mensagem avisando se o número informado pertence ou não a sequência.\n"
   ]
  },
  {
   "cell_type": "code",
   "execution_count": 11,
   "metadata": {},
   "outputs": [
    {
     "ename": "ValueError",
     "evalue": "invalid literal for int() with base 10: 'sdf'",
     "output_type": "error",
     "traceback": [
      "\u001b[1;31m---------------------------------------------------------------------------\u001b[0m",
      "\u001b[1;31mValueError\u001b[0m                                Traceback (most recent call last)",
      "Cell \u001b[1;32mIn[11], line 13\u001b[0m\n\u001b[0;32m      9\u001b[0m         b \u001b[38;5;241m=\u001b[39m temp\n\u001b[0;32m     11\u001b[0m     \u001b[38;5;28;01mreturn\u001b[39;00m b \u001b[38;5;241m==\u001b[39m n\n\u001b[1;32m---> 13\u001b[0m num \u001b[38;5;241m=\u001b[39m \u001b[38;5;28;43mint\u001b[39;49m\u001b[43m(\u001b[49m\u001b[38;5;28;43minput\u001b[39;49m\u001b[43m(\u001b[49m\u001b[38;5;124;43m\"\u001b[39;49m\u001b[38;5;124;43mDigite um número para verificar se pertence à sequência de Fibonacci: \u001b[39;49m\u001b[38;5;124;43m\"\u001b[39;49m\u001b[43m)\u001b[49m\u001b[43m)\u001b[49m\n\u001b[0;32m     14\u001b[0m \u001b[38;5;28;01mif\u001b[39;00m fibonacci(num):\n\u001b[0;32m     15\u001b[0m     \u001b[38;5;28mprint\u001b[39m(\u001b[38;5;124mf\u001b[39m\u001b[38;5;124m\"\u001b[39m\u001b[38;5;124mO número \u001b[39m\u001b[38;5;132;01m{\u001b[39;00mnum\u001b[38;5;132;01m}\u001b[39;00m\u001b[38;5;124m pertence à sequência de Fibonacci.\u001b[39m\u001b[38;5;124m\"\u001b[39m)\n",
      "\u001b[1;31mValueError\u001b[0m: invalid literal for int() with base 10: 'sdf'"
     ]
    }
   ],
   "source": [
    "def fibonacci(n):\n",
    "    if n == 0:\n",
    "        return True  # O número 0 pertence à sequência de Fibonacci.\n",
    "    \n",
    "    a, b = 0, 1\n",
    "    while b < n:\n",
    "        temp = a + b\n",
    "        a = b\n",
    "        b = temp\n",
    "    \n",
    "    return b == n\n",
    "\n",
    "num = int(input(\"Digite um número para verificar se pertence à sequência de Fibonacci: \"))\n",
    "if fibonacci(num):\n",
    "    print(f\"O número {num} pertence à sequência de Fibonacci.\")\n",
    "else:\n",
    "    print(f\"O número {num} não pertence à sequência de Fibonacci.\")"
   ]
  },
  {
   "cell_type": "markdown",
   "metadata": {},
   "source": [
    "### 3)\n",
    " Dado um vetor que guarda o valor de faturamento diário de uma distribuidora, faça um programa, na linguagem que desejar, que calcule e retorne:\n",
    "• O menor valor de faturamento ocorrido em um dia do mês;\n",
    "• O maior valor de faturamento ocorrido em um dia do mês;\n",
    "• Número de dias no mês em que o valor de faturamento diário foi superior à média mensal.\n"
   ]
  },
  {
   "cell_type": "code",
   "execution_count": 7,
   "metadata": {},
   "outputs": [
    {
     "name": "stdout",
     "output_type": "stream",
     "text": [
      "Menor valor de faturamento: 100\n",
      "Maior valor de faturamento: 300\n",
      "Dias com faturamento acima da média: 1\n"
     ]
    }
   ],
   "source": [
    "import json\n",
    "\n",
    "def analyze_faturamento(file_path):\n",
    "    with open(file_path, 'r') as f:\n",
    "        data = json.load(f)\n",
    "    \n",
    "    faturamento = [valor for valor in data['faturamento_diario'] if valor > 0]\n",
    "    \n",
    "    menor_faturamento = min(faturamento)\n",
    "    maior_faturamento = max(faturamento)\n",
    "    media_mensal = sum(faturamento) / len(faturamento)\n",
    "    \n",
    "    dias_acima_da_media = sum(1 for valor in faturamento if valor > media_mensal)\n",
    "    \n",
    "    print(\"Menor valor de faturamento:\", menor_faturamento)\n",
    "    print(\"Maior valor de faturamento:\", maior_faturamento)\n",
    "    print(\"Dias com faturamento acima da média:\", dias_acima_da_media)\n",
    "\n",
    "# Substitua 'faturamento.json' pelo caminho do seu arquivo JSON\n",
    "analyze_faturamento('faturamento.json')\n"
   ]
  },
  {
   "cell_type": "markdown",
   "metadata": {},
   "source": [
    "### 4) \n",
    "Dado o valor de faturamento mensal de uma distribuidora, detalhado por estado:\n",
    "• SP – R$67.836,43\n",
    "• RJ – R$36.678,66\n",
    "• MG – R$29.229,88\n",
    "• ES – R$27.165,48\n",
    "• Outros – R$19.849,53\n",
    "\n",
    "Escreva um programa na linguagem que desejar onde calcule o percentual de representação que cada estado teve dentro do valor total mensal da distribuidora.  \n"
   ]
  },
  {
   "cell_type": "code",
   "execution_count": 8,
   "metadata": {},
   "outputs": [
    {
     "name": "stdout",
     "output_type": "stream",
     "text": [
      "SP: 37.53%\n",
      "RJ: 20.29%\n",
      "MG: 16.17%\n",
      "ES: 15.03%\n",
      "Outros: 10.98%\n"
     ]
    }
   ],
   "source": [
    "faturamento = {\n",
    "    \"SP\": 67836.43,\n",
    "    \"RJ\": 36678.66,\n",
    "    \"MG\": 29229.88,\n",
    "    \"ES\": 27165.48,\n",
    "    \"Outros\": 19849.53\n",
    "}\n",
    "\n",
    "total_faturamento = sum(faturamento.values())\n",
    "\n",
    "for estado, valor in faturamento.items():\n",
    "    percentual = (valor / total_faturamento) * 100\n",
    "    print(f\"{estado}: {percentual:.2f}%\")\n"
   ]
  },
  {
   "cell_type": "markdown",
   "metadata": {},
   "source": [
    "### 5) \n",
    "Escreva um programa que inverta os caracteres de um string."
   ]
  },
  {
   "cell_type": "code",
   "execution_count": 9,
   "metadata": {},
   "outputs": [
    {
     "name": "stdout",
     "output_type": "stream",
     "text": [
      "String invertida: alo\n"
     ]
    }
   ],
   "source": [
    "def inverter_string(s):\n",
    "    return s[::-1]\n",
    "\n",
    "texto = input(\"Digite uma string para ser invertida: \")\n",
    "print(\"String invertida:\", inverter_string(texto))\n"
   ]
  }
 ],
 "metadata": {
  "kernelspec": {
   "display_name": "Python 3",
   "language": "python",
   "name": "python3"
  },
  "language_info": {
   "codemirror_mode": {
    "name": "ipython",
    "version": 3
   },
   "file_extension": ".py",
   "mimetype": "text/x-python",
   "name": "python",
   "nbconvert_exporter": "python",
   "pygments_lexer": "ipython3",
   "version": "3.11.2"
  }
 },
 "nbformat": 4,
 "nbformat_minor": 2
}
